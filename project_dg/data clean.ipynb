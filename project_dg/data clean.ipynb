{
 "cells": [
  {
   "cell_type": "code",
   "execution_count": 1,
   "metadata": {},
   "outputs": [],
   "source": [
    "import pandas as pd"
   ]
  },
  {
   "cell_type": "code",
   "execution_count": 8,
   "metadata": {},
   "outputs": [
    {
     "data": {
      "text/html": [
       "<div>\n",
       "<style scoped>\n",
       "    .dataframe tbody tr th:only-of-type {\n",
       "        vertical-align: middle;\n",
       "    }\n",
       "\n",
       "    .dataframe tbody tr th {\n",
       "        vertical-align: top;\n",
       "    }\n",
       "\n",
       "    .dataframe thead th {\n",
       "        text-align: right;\n",
       "    }\n",
       "</style>\n",
       "<table border=\"1\" class=\"dataframe\">\n",
       "  <thead>\n",
       "    <tr style=\"text-align: right;\">\n",
       "      <th></th>\n",
       "      <th>Location</th>\n",
       "      <th>Date_Time</th>\n",
       "      <th>Temperature_C</th>\n",
       "      <th>Humidity_pct</th>\n",
       "      <th>Precipitation_mm</th>\n",
       "      <th>Wind_Speed_kmh</th>\n",
       "    </tr>\n",
       "  </thead>\n",
       "  <tbody>\n",
       "    <tr>\n",
       "      <th>360731</th>\n",
       "      <td>Phoenix</td>\n",
       "      <td>2024-01-01 00:00:06</td>\n",
       "      <td>0.618582</td>\n",
       "      <td>46.871717</td>\n",
       "      <td>7.379615</td>\n",
       "      <td>5.321995</td>\n",
       "    </tr>\n",
       "    <tr>\n",
       "      <th>689109</th>\n",
       "      <td>Houston</td>\n",
       "      <td>2024-01-01 00:00:06</td>\n",
       "      <td>39.469465</td>\n",
       "      <td>34.789904</td>\n",
       "      <td>9.807685</td>\n",
       "      <td>20.475434</td>\n",
       "    </tr>\n",
       "    <tr>\n",
       "      <th>884595</th>\n",
       "      <td>Los Angeles</td>\n",
       "      <td>2024-01-01 00:00:15</td>\n",
       "      <td>35.920611</td>\n",
       "      <td>80.786237</td>\n",
       "      <td>0.859060</td>\n",
       "      <td>21.634439</td>\n",
       "    </tr>\n",
       "    <tr>\n",
       "      <th>628847</th>\n",
       "      <td>San Antonio</td>\n",
       "      <td>2024-01-01 00:00:18</td>\n",
       "      <td>32.048197</td>\n",
       "      <td>45.576250</td>\n",
       "      <td>2.894071</td>\n",
       "      <td>23.335641</td>\n",
       "    </tr>\n",
       "    <tr>\n",
       "      <th>706342</th>\n",
       "      <td>San Diego</td>\n",
       "      <td>2024-01-01 00:00:31</td>\n",
       "      <td>-8.090262</td>\n",
       "      <td>81.472454</td>\n",
       "      <td>5.435076</td>\n",
       "      <td>7.609853</td>\n",
       "    </tr>\n",
       "    <tr>\n",
       "      <th>...</th>\n",
       "      <td>...</td>\n",
       "      <td>...</td>\n",
       "      <td>...</td>\n",
       "      <td>...</td>\n",
       "      <td>...</td>\n",
       "      <td>...</td>\n",
       "    </tr>\n",
       "    <tr>\n",
       "      <th>985301</th>\n",
       "      <td>Chicago</td>\n",
       "      <td>2024-05-18 19:43:30</td>\n",
       "      <td>-1.561114</td>\n",
       "      <td>35.861711</td>\n",
       "      <td>8.802004</td>\n",
       "      <td>7.852678</td>\n",
       "    </tr>\n",
       "    <tr>\n",
       "      <th>216426</th>\n",
       "      <td>Philadelphia</td>\n",
       "      <td>2024-05-18 19:43:50</td>\n",
       "      <td>8.597967</td>\n",
       "      <td>88.073644</td>\n",
       "      <td>5.137802</td>\n",
       "      <td>21.671935</td>\n",
       "    </tr>\n",
       "    <tr>\n",
       "      <th>324735</th>\n",
       "      <td>New York</td>\n",
       "      <td>2024-05-18 19:43:55</td>\n",
       "      <td>7.679884</td>\n",
       "      <td>89.701606</td>\n",
       "      <td>6.760624</td>\n",
       "      <td>21.417264</td>\n",
       "    </tr>\n",
       "    <tr>\n",
       "      <th>809633</th>\n",
       "      <td>Houston</td>\n",
       "      <td>2024-05-18 19:44:02</td>\n",
       "      <td>34.038278</td>\n",
       "      <td>57.755329</td>\n",
       "      <td>0.939044</td>\n",
       "      <td>4.530607</td>\n",
       "    </tr>\n",
       "    <tr>\n",
       "      <th>758659</th>\n",
       "      <td>San Antonio</td>\n",
       "      <td>2024-05-18 19:44:10</td>\n",
       "      <td>38.273794</td>\n",
       "      <td>56.817292</td>\n",
       "      <td>8.591043</td>\n",
       "      <td>27.106023</td>\n",
       "    </tr>\n",
       "  </tbody>\n",
       "</table>\n",
       "<p>1000000 rows × 6 columns</p>\n",
       "</div>"
      ],
      "text/plain": [
       "            Location           Date_Time  Temperature_C  Humidity_pct  \\\n",
       "360731       Phoenix 2024-01-01 00:00:06       0.618582     46.871717   \n",
       "689109       Houston 2024-01-01 00:00:06      39.469465     34.789904   \n",
       "884595   Los Angeles 2024-01-01 00:00:15      35.920611     80.786237   \n",
       "628847   San Antonio 2024-01-01 00:00:18      32.048197     45.576250   \n",
       "706342     San Diego 2024-01-01 00:00:31      -8.090262     81.472454   \n",
       "...              ...                 ...            ...           ...   \n",
       "985301       Chicago 2024-05-18 19:43:30      -1.561114     35.861711   \n",
       "216426  Philadelphia 2024-05-18 19:43:50       8.597967     88.073644   \n",
       "324735      New York 2024-05-18 19:43:55       7.679884     89.701606   \n",
       "809633       Houston 2024-05-18 19:44:02      34.038278     57.755329   \n",
       "758659   San Antonio 2024-05-18 19:44:10      38.273794     56.817292   \n",
       "\n",
       "        Precipitation_mm  Wind_Speed_kmh  \n",
       "360731          7.379615        5.321995  \n",
       "689109          9.807685       20.475434  \n",
       "884595          0.859060       21.634439  \n",
       "628847          2.894071       23.335641  \n",
       "706342          5.435076        7.609853  \n",
       "...                  ...             ...  \n",
       "985301          8.802004        7.852678  \n",
       "216426          5.137802       21.671935  \n",
       "324735          6.760624       21.417264  \n",
       "809633          0.939044        4.530607  \n",
       "758659          8.591043       27.106023  \n",
       "\n",
       "[1000000 rows x 6 columns]"
      ]
     },
     "execution_count": 8,
     "metadata": {},
     "output_type": "execute_result"
    }
   ],
   "source": [
    "df = pd.read_csv(\"weather_data.csv\", parse_dates=['Date_Time'])\n",
    "df.sort_values('Date_Time')"
   ]
  },
  {
   "cell_type": "code",
   "execution_count": 3,
   "metadata": {},
   "outputs": [],
   "source": [
    "df = pd.read_csv(\"weather_data.csv\")"
   ]
  },
  {
   "cell_type": "code",
   "execution_count": 4,
   "metadata": {},
   "outputs": [
    {
     "data": {
      "text/html": [
       "<div>\n",
       "<style scoped>\n",
       "    .dataframe tbody tr th:only-of-type {\n",
       "        vertical-align: middle;\n",
       "    }\n",
       "\n",
       "    .dataframe tbody tr th {\n",
       "        vertical-align: top;\n",
       "    }\n",
       "\n",
       "    .dataframe thead th {\n",
       "        text-align: right;\n",
       "    }\n",
       "</style>\n",
       "<table border=\"1\" class=\"dataframe\">\n",
       "  <thead>\n",
       "    <tr style=\"text-align: right;\">\n",
       "      <th></th>\n",
       "      <th>Location</th>\n",
       "      <th>Date_Time</th>\n",
       "      <th>Temperature_C</th>\n",
       "      <th>Humidity_pct</th>\n",
       "      <th>Precipitation_mm</th>\n",
       "      <th>Wind_Speed_kmh</th>\n",
       "    </tr>\n",
       "  </thead>\n",
       "  <tbody>\n",
       "    <tr>\n",
       "      <th>0</th>\n",
       "      <td>San Diego</td>\n",
       "      <td>2024-01-14 21:12:46</td>\n",
       "      <td>10.683001</td>\n",
       "      <td>41.195754</td>\n",
       "      <td>4.020119</td>\n",
       "      <td>8.233540</td>\n",
       "    </tr>\n",
       "    <tr>\n",
       "      <th>1</th>\n",
       "      <td>San Diego</td>\n",
       "      <td>2024-05-17 15:22:10</td>\n",
       "      <td>8.734140</td>\n",
       "      <td>58.319107</td>\n",
       "      <td>9.111623</td>\n",
       "      <td>27.715161</td>\n",
       "    </tr>\n",
       "    <tr>\n",
       "      <th>2</th>\n",
       "      <td>San Diego</td>\n",
       "      <td>2024-05-11 09:30:59</td>\n",
       "      <td>11.632436</td>\n",
       "      <td>38.820175</td>\n",
       "      <td>4.607511</td>\n",
       "      <td>28.732951</td>\n",
       "    </tr>\n",
       "    <tr>\n",
       "      <th>3</th>\n",
       "      <td>Philadelphia</td>\n",
       "      <td>2024-02-26 17:32:39</td>\n",
       "      <td>-8.628976</td>\n",
       "      <td>54.074474</td>\n",
       "      <td>3.183720</td>\n",
       "      <td>26.367303</td>\n",
       "    </tr>\n",
       "  </tbody>\n",
       "</table>\n",
       "</div>"
      ],
      "text/plain": [
       "       Location            Date_Time  Temperature_C  Humidity_pct  \\\n",
       "0     San Diego  2024-01-14 21:12:46      10.683001     41.195754   \n",
       "1     San Diego  2024-05-17 15:22:10       8.734140     58.319107   \n",
       "2     San Diego  2024-05-11 09:30:59      11.632436     38.820175   \n",
       "3  Philadelphia  2024-02-26 17:32:39      -8.628976     54.074474   \n",
       "\n",
       "   Precipitation_mm  Wind_Speed_kmh  \n",
       "0          4.020119        8.233540  \n",
       "1          9.111623       27.715161  \n",
       "2          4.607511       28.732951  \n",
       "3          3.183720       26.367303  "
      ]
     },
     "execution_count": 4,
     "metadata": {},
     "output_type": "execute_result"
    }
   ],
   "source": [
    "df.head(4)"
   ]
  },
  {
   "cell_type": "code",
   "execution_count": 5,
   "metadata": {},
   "outputs": [
    {
     "data": {
      "text/html": [
       "<div>\n",
       "<style scoped>\n",
       "    .dataframe tbody tr th:only-of-type {\n",
       "        vertical-align: middle;\n",
       "    }\n",
       "\n",
       "    .dataframe tbody tr th {\n",
       "        vertical-align: top;\n",
       "    }\n",
       "\n",
       "    .dataframe thead th {\n",
       "        text-align: right;\n",
       "    }\n",
       "</style>\n",
       "<table border=\"1\" class=\"dataframe\">\n",
       "  <thead>\n",
       "    <tr style=\"text-align: right;\">\n",
       "      <th></th>\n",
       "      <th>Location</th>\n",
       "      <th>Date_Time</th>\n",
       "      <th>Temperature_C</th>\n",
       "      <th>Humidity_pct</th>\n",
       "      <th>Precipitation_mm</th>\n",
       "      <th>Wind_Speed_kmh</th>\n",
       "    </tr>\n",
       "  </thead>\n",
       "  <tbody>\n",
       "    <tr>\n",
       "      <th>999996</th>\n",
       "      <td>San Antonio</td>\n",
       "      <td>2024-01-20 15:59:48</td>\n",
       "      <td>6.759080</td>\n",
       "      <td>40.731036</td>\n",
       "      <td>8.182785</td>\n",
       "      <td>29.005558</td>\n",
       "    </tr>\n",
       "    <tr>\n",
       "      <th>999997</th>\n",
       "      <td>New York</td>\n",
       "      <td>2024-04-14 08:30:09</td>\n",
       "      <td>15.664465</td>\n",
       "      <td>62.201884</td>\n",
       "      <td>3.987558</td>\n",
       "      <td>0.403909</td>\n",
       "    </tr>\n",
       "    <tr>\n",
       "      <th>999998</th>\n",
       "      <td>Chicago</td>\n",
       "      <td>2024-05-12 20:10:43</td>\n",
       "      <td>18.999994</td>\n",
       "      <td>63.703245</td>\n",
       "      <td>4.294325</td>\n",
       "      <td>6.326036</td>\n",
       "    </tr>\n",
       "    <tr>\n",
       "      <th>999999</th>\n",
       "      <td>New York</td>\n",
       "      <td>2024-04-16 16:11:52</td>\n",
       "      <td>10.725351</td>\n",
       "      <td>43.804584</td>\n",
       "      <td>1.883292</td>\n",
       "      <td>15.363828</td>\n",
       "    </tr>\n",
       "  </tbody>\n",
       "</table>\n",
       "</div>"
      ],
      "text/plain": [
       "           Location            Date_Time  Temperature_C  Humidity_pct  \\\n",
       "999996  San Antonio  2024-01-20 15:59:48       6.759080     40.731036   \n",
       "999997     New York  2024-04-14 08:30:09      15.664465     62.201884   \n",
       "999998      Chicago  2024-05-12 20:10:43      18.999994     63.703245   \n",
       "999999     New York  2024-04-16 16:11:52      10.725351     43.804584   \n",
       "\n",
       "        Precipitation_mm  Wind_Speed_kmh  \n",
       "999996          8.182785       29.005558  \n",
       "999997          3.987558        0.403909  \n",
       "999998          4.294325        6.326036  \n",
       "999999          1.883292       15.363828  "
      ]
     },
     "execution_count": 5,
     "metadata": {},
     "output_type": "execute_result"
    }
   ],
   "source": [
    "df.tail(4)"
   ]
  },
  {
   "cell_type": "code",
   "execution_count": 6,
   "metadata": {},
   "outputs": [
    {
     "data": {
      "text/html": [
       "<div>\n",
       "<style scoped>\n",
       "    .dataframe tbody tr th:only-of-type {\n",
       "        vertical-align: middle;\n",
       "    }\n",
       "\n",
       "    .dataframe tbody tr th {\n",
       "        vertical-align: top;\n",
       "    }\n",
       "\n",
       "    .dataframe thead th {\n",
       "        text-align: right;\n",
       "    }\n",
       "</style>\n",
       "<table border=\"1\" class=\"dataframe\">\n",
       "  <thead>\n",
       "    <tr style=\"text-align: right;\">\n",
       "      <th></th>\n",
       "      <th>Temperature_C</th>\n",
       "      <th>Humidity_pct</th>\n",
       "      <th>Precipitation_mm</th>\n",
       "      <th>Wind_Speed_kmh</th>\n",
       "    </tr>\n",
       "  </thead>\n",
       "  <tbody>\n",
       "    <tr>\n",
       "      <th>count</th>\n",
       "      <td>1000000.000000</td>\n",
       "      <td>1000000.000000</td>\n",
       "      <td>1000000.000000</td>\n",
       "      <td>1000000.000000</td>\n",
       "    </tr>\n",
       "    <tr>\n",
       "      <th>mean</th>\n",
       "      <td>14.779705</td>\n",
       "      <td>60.021830</td>\n",
       "      <td>5.109639</td>\n",
       "      <td>14.997598</td>\n",
       "    </tr>\n",
       "    <tr>\n",
       "      <th>std</th>\n",
       "      <td>14.482558</td>\n",
       "      <td>17.324022</td>\n",
       "      <td>2.947997</td>\n",
       "      <td>8.663556</td>\n",
       "    </tr>\n",
       "    <tr>\n",
       "      <th>min</th>\n",
       "      <td>-19.969311</td>\n",
       "      <td>30.000009</td>\n",
       "      <td>0.000009</td>\n",
       "      <td>0.000051</td>\n",
       "    </tr>\n",
       "    <tr>\n",
       "      <th>25%</th>\n",
       "      <td>2.269631</td>\n",
       "      <td>45.008500</td>\n",
       "      <td>2.580694</td>\n",
       "      <td>7.490101</td>\n",
       "    </tr>\n",
       "    <tr>\n",
       "      <th>50%</th>\n",
       "      <td>14.778002</td>\n",
       "      <td>60.018708</td>\n",
       "      <td>5.109917</td>\n",
       "      <td>14.993777</td>\n",
       "    </tr>\n",
       "    <tr>\n",
       "      <th>75%</th>\n",
       "      <td>27.270489</td>\n",
       "      <td>75.043818</td>\n",
       "      <td>7.613750</td>\n",
       "      <td>22.514110</td>\n",
       "    </tr>\n",
       "    <tr>\n",
       "      <th>max</th>\n",
       "      <td>39.999801</td>\n",
       "      <td>89.999977</td>\n",
       "      <td>14.971583</td>\n",
       "      <td>29.999973</td>\n",
       "    </tr>\n",
       "  </tbody>\n",
       "</table>\n",
       "</div>"
      ],
      "text/plain": [
       "        Temperature_C    Humidity_pct  Precipitation_mm  Wind_Speed_kmh\n",
       "count  1000000.000000  1000000.000000    1000000.000000  1000000.000000\n",
       "mean        14.779705       60.021830          5.109639       14.997598\n",
       "std         14.482558       17.324022          2.947997        8.663556\n",
       "min        -19.969311       30.000009          0.000009        0.000051\n",
       "25%          2.269631       45.008500          2.580694        7.490101\n",
       "50%         14.778002       60.018708          5.109917       14.993777\n",
       "75%         27.270489       75.043818          7.613750       22.514110\n",
       "max         39.999801       89.999977         14.971583       29.999973"
      ]
     },
     "execution_count": 6,
     "metadata": {},
     "output_type": "execute_result"
    }
   ],
   "source": [
    "df.describe()"
   ]
  },
  {
   "cell_type": "code",
   "execution_count": 7,
   "metadata": {},
   "outputs": [
    {
     "name": "stdout",
     "output_type": "stream",
     "text": [
      "<class 'pandas.core.frame.DataFrame'>\n",
      "RangeIndex: 1000000 entries, 0 to 999999\n",
      "Data columns (total 6 columns):\n",
      " #   Column            Non-Null Count    Dtype  \n",
      "---  ------            --------------    -----  \n",
      " 0   Location          1000000 non-null  object \n",
      " 1   Date_Time         1000000 non-null  object \n",
      " 2   Temperature_C     1000000 non-null  float64\n",
      " 3   Humidity_pct      1000000 non-null  float64\n",
      " 4   Precipitation_mm  1000000 non-null  float64\n",
      " 5   Wind_Speed_kmh    1000000 non-null  float64\n",
      "dtypes: float64(4), object(2)\n",
      "memory usage: 45.8+ MB\n"
     ]
    }
   ],
   "source": [
    "df.info()"
   ]
  },
  {
   "cell_type": "code",
   "execution_count": 8,
   "metadata": {},
   "outputs": [
    {
     "data": {
      "text/plain": [
       "(1000000, 6)"
      ]
     },
     "execution_count": 8,
     "metadata": {},
     "output_type": "execute_result"
    }
   ],
   "source": [
    "df.shape"
   ]
  },
  {
   "cell_type": "code",
   "execution_count": 9,
   "metadata": {},
   "outputs": [
    {
     "data": {
      "text/plain": [
       "pandas.core.frame.DataFrame"
      ]
     },
     "execution_count": 9,
     "metadata": {},
     "output_type": "execute_result"
    }
   ],
   "source": [
    "type(df)"
   ]
  },
  {
   "cell_type": "code",
   "execution_count": 10,
   "metadata": {},
   "outputs": [
    {
     "data": {
      "text/plain": [
       "0         10.683001\n",
       "1          8.734140\n",
       "2         11.632436\n",
       "3         -8.628976\n",
       "4         39.808213\n",
       "            ...    \n",
       "999995    23.416877\n",
       "999996     6.759080\n",
       "999997    15.664465\n",
       "999998    18.999994\n",
       "999999    10.725351\n",
       "Name: Temperature_C, Length: 1000000, dtype: float64"
      ]
     },
     "execution_count": 10,
     "metadata": {},
     "output_type": "execute_result"
    }
   ],
   "source": [
    "df.Temperature_C"
   ]
  },
  {
   "cell_type": "code",
   "execution_count": 11,
   "metadata": {},
   "outputs": [
    {
     "data": {
      "text/html": [
       "<div>\n",
       "<style scoped>\n",
       "    .dataframe tbody tr th:only-of-type {\n",
       "        vertical-align: middle;\n",
       "    }\n",
       "\n",
       "    .dataframe tbody tr th {\n",
       "        vertical-align: top;\n",
       "    }\n",
       "\n",
       "    .dataframe thead th {\n",
       "        text-align: right;\n",
       "    }\n",
       "</style>\n",
       "<table border=\"1\" class=\"dataframe\">\n",
       "  <thead>\n",
       "    <tr style=\"text-align: right;\">\n",
       "      <th></th>\n",
       "      <th>Temperature_C</th>\n",
       "      <th>Humidity_pct</th>\n",
       "      <th>Precipitation_mm</th>\n",
       "    </tr>\n",
       "  </thead>\n",
       "  <tbody>\n",
       "    <tr>\n",
       "      <th>0</th>\n",
       "      <td>10.683001</td>\n",
       "      <td>41.195754</td>\n",
       "      <td>4.020119</td>\n",
       "    </tr>\n",
       "    <tr>\n",
       "      <th>1</th>\n",
       "      <td>8.734140</td>\n",
       "      <td>58.319107</td>\n",
       "      <td>9.111623</td>\n",
       "    </tr>\n",
       "    <tr>\n",
       "      <th>2</th>\n",
       "      <td>11.632436</td>\n",
       "      <td>38.820175</td>\n",
       "      <td>4.607511</td>\n",
       "    </tr>\n",
       "    <tr>\n",
       "      <th>3</th>\n",
       "      <td>-8.628976</td>\n",
       "      <td>54.074474</td>\n",
       "      <td>3.183720</td>\n",
       "    </tr>\n",
       "    <tr>\n",
       "      <th>4</th>\n",
       "      <td>39.808213</td>\n",
       "      <td>72.899908</td>\n",
       "      <td>9.598282</td>\n",
       "    </tr>\n",
       "    <tr>\n",
       "      <th>...</th>\n",
       "      <td>...</td>\n",
       "      <td>...</td>\n",
       "      <td>...</td>\n",
       "    </tr>\n",
       "    <tr>\n",
       "      <th>999995</th>\n",
       "      <td>23.416877</td>\n",
       "      <td>37.705024</td>\n",
       "      <td>3.819833</td>\n",
       "    </tr>\n",
       "    <tr>\n",
       "      <th>999996</th>\n",
       "      <td>6.759080</td>\n",
       "      <td>40.731036</td>\n",
       "      <td>8.182785</td>\n",
       "    </tr>\n",
       "    <tr>\n",
       "      <th>999997</th>\n",
       "      <td>15.664465</td>\n",
       "      <td>62.201884</td>\n",
       "      <td>3.987558</td>\n",
       "    </tr>\n",
       "    <tr>\n",
       "      <th>999998</th>\n",
       "      <td>18.999994</td>\n",
       "      <td>63.703245</td>\n",
       "      <td>4.294325</td>\n",
       "    </tr>\n",
       "    <tr>\n",
       "      <th>999999</th>\n",
       "      <td>10.725351</td>\n",
       "      <td>43.804584</td>\n",
       "      <td>1.883292</td>\n",
       "    </tr>\n",
       "  </tbody>\n",
       "</table>\n",
       "<p>1000000 rows × 3 columns</p>\n",
       "</div>"
      ],
      "text/plain": [
       "        Temperature_C  Humidity_pct  Precipitation_mm\n",
       "0           10.683001     41.195754          4.020119\n",
       "1            8.734140     58.319107          9.111623\n",
       "2           11.632436     38.820175          4.607511\n",
       "3           -8.628976     54.074474          3.183720\n",
       "4           39.808213     72.899908          9.598282\n",
       "...               ...           ...               ...\n",
       "999995      23.416877     37.705024          3.819833\n",
       "999996       6.759080     40.731036          8.182785\n",
       "999997      15.664465     62.201884          3.987558\n",
       "999998      18.999994     63.703245          4.294325\n",
       "999999      10.725351     43.804584          1.883292\n",
       "\n",
       "[1000000 rows x 3 columns]"
      ]
     },
     "execution_count": 11,
     "metadata": {},
     "output_type": "execute_result"
    }
   ],
   "source": [
    "df[['Temperature_C','Humidity_pct','Precipitation_mm']]"
   ]
  },
  {
   "cell_type": "code",
   "execution_count": 12,
   "metadata": {},
   "outputs": [
    {
     "data": {
      "text/html": [
       "<div>\n",
       "<style scoped>\n",
       "    .dataframe tbody tr th:only-of-type {\n",
       "        vertical-align: middle;\n",
       "    }\n",
       "\n",
       "    .dataframe tbody tr th {\n",
       "        vertical-align: top;\n",
       "    }\n",
       "\n",
       "    .dataframe thead th {\n",
       "        text-align: right;\n",
       "    }\n",
       "</style>\n",
       "<table border=\"1\" class=\"dataframe\">\n",
       "  <thead>\n",
       "    <tr style=\"text-align: right;\">\n",
       "      <th></th>\n",
       "      <th>Location</th>\n",
       "      <th>Date_Time</th>\n",
       "      <th>Temperature_C</th>\n",
       "      <th>Humidity_pct</th>\n",
       "      <th>Precipitation_mm</th>\n",
       "      <th>Wind_Speed_kmh</th>\n",
       "    </tr>\n",
       "  </thead>\n",
       "  <tbody>\n",
       "    <tr>\n",
       "      <th>0</th>\n",
       "      <td>San Diego</td>\n",
       "      <td>2024-01-14 21:12:46</td>\n",
       "      <td>10.683001</td>\n",
       "      <td>41.195754</td>\n",
       "      <td>4.020119</td>\n",
       "      <td>8.233540</td>\n",
       "    </tr>\n",
       "    <tr>\n",
       "      <th>1</th>\n",
       "      <td>San Diego</td>\n",
       "      <td>2024-05-17 15:22:10</td>\n",
       "      <td>8.734140</td>\n",
       "      <td>58.319107</td>\n",
       "      <td>9.111623</td>\n",
       "      <td>27.715161</td>\n",
       "    </tr>\n",
       "    <tr>\n",
       "      <th>2</th>\n",
       "      <td>San Diego</td>\n",
       "      <td>2024-05-11 09:30:59</td>\n",
       "      <td>11.632436</td>\n",
       "      <td>38.820175</td>\n",
       "      <td>4.607511</td>\n",
       "      <td>28.732951</td>\n",
       "    </tr>\n",
       "    <tr>\n",
       "      <th>3</th>\n",
       "      <td>Philadelphia</td>\n",
       "      <td>2024-02-26 17:32:39</td>\n",
       "      <td>-8.628976</td>\n",
       "      <td>54.074474</td>\n",
       "      <td>3.183720</td>\n",
       "      <td>26.367303</td>\n",
       "    </tr>\n",
       "    <tr>\n",
       "      <th>4</th>\n",
       "      <td>San Antonio</td>\n",
       "      <td>2024-04-29 13:23:51</td>\n",
       "      <td>39.808213</td>\n",
       "      <td>72.899908</td>\n",
       "      <td>9.598282</td>\n",
       "      <td>29.898622</td>\n",
       "    </tr>\n",
       "    <tr>\n",
       "      <th>...</th>\n",
       "      <td>...</td>\n",
       "      <td>...</td>\n",
       "      <td>...</td>\n",
       "      <td>...</td>\n",
       "      <td>...</td>\n",
       "      <td>...</td>\n",
       "    </tr>\n",
       "    <tr>\n",
       "      <th>999995</th>\n",
       "      <td>Dallas</td>\n",
       "      <td>2024-01-01 20:29:48</td>\n",
       "      <td>23.416877</td>\n",
       "      <td>37.705024</td>\n",
       "      <td>3.819833</td>\n",
       "      <td>16.538119</td>\n",
       "    </tr>\n",
       "    <tr>\n",
       "      <th>999996</th>\n",
       "      <td>San Antonio</td>\n",
       "      <td>2024-01-20 15:59:48</td>\n",
       "      <td>6.759080</td>\n",
       "      <td>40.731036</td>\n",
       "      <td>8.182785</td>\n",
       "      <td>29.005558</td>\n",
       "    </tr>\n",
       "    <tr>\n",
       "      <th>999997</th>\n",
       "      <td>New York</td>\n",
       "      <td>2024-04-14 08:30:09</td>\n",
       "      <td>15.664465</td>\n",
       "      <td>62.201884</td>\n",
       "      <td>3.987558</td>\n",
       "      <td>0.403909</td>\n",
       "    </tr>\n",
       "    <tr>\n",
       "      <th>999998</th>\n",
       "      <td>Chicago</td>\n",
       "      <td>2024-05-12 20:10:43</td>\n",
       "      <td>18.999994</td>\n",
       "      <td>63.703245</td>\n",
       "      <td>4.294325</td>\n",
       "      <td>6.326036</td>\n",
       "    </tr>\n",
       "    <tr>\n",
       "      <th>999999</th>\n",
       "      <td>New York</td>\n",
       "      <td>2024-04-16 16:11:52</td>\n",
       "      <td>10.725351</td>\n",
       "      <td>43.804584</td>\n",
       "      <td>1.883292</td>\n",
       "      <td>15.363828</td>\n",
       "    </tr>\n",
       "  </tbody>\n",
       "</table>\n",
       "<p>1000000 rows × 6 columns</p>\n",
       "</div>"
      ],
      "text/plain": [
       "            Location            Date_Time  Temperature_C  Humidity_pct  \\\n",
       "0          San Diego  2024-01-14 21:12:46      10.683001     41.195754   \n",
       "1          San Diego  2024-05-17 15:22:10       8.734140     58.319107   \n",
       "2          San Diego  2024-05-11 09:30:59      11.632436     38.820175   \n",
       "3       Philadelphia  2024-02-26 17:32:39      -8.628976     54.074474   \n",
       "4        San Antonio  2024-04-29 13:23:51      39.808213     72.899908   \n",
       "...              ...                  ...            ...           ...   \n",
       "999995        Dallas  2024-01-01 20:29:48      23.416877     37.705024   \n",
       "999996   San Antonio  2024-01-20 15:59:48       6.759080     40.731036   \n",
       "999997      New York  2024-04-14 08:30:09      15.664465     62.201884   \n",
       "999998       Chicago  2024-05-12 20:10:43      18.999994     63.703245   \n",
       "999999      New York  2024-04-16 16:11:52      10.725351     43.804584   \n",
       "\n",
       "        Precipitation_mm  Wind_Speed_kmh  \n",
       "0               4.020119        8.233540  \n",
       "1               9.111623       27.715161  \n",
       "2               4.607511       28.732951  \n",
       "3               3.183720       26.367303  \n",
       "4               9.598282       29.898622  \n",
       "...                  ...             ...  \n",
       "999995          3.819833       16.538119  \n",
       "999996          8.182785       29.005558  \n",
       "999997          3.987558        0.403909  \n",
       "999998          4.294325        6.326036  \n",
       "999999          1.883292       15.363828  \n",
       "\n",
       "[1000000 rows x 6 columns]"
      ]
     },
     "execution_count": 12,
     "metadata": {},
     "output_type": "execute_result"
    }
   ],
   "source": [
    "df.dropna()"
   ]
  },
  {
   "cell_type": "code",
   "execution_count": 13,
   "metadata": {},
   "outputs": [
    {
     "data": {
      "text/html": [
       "<div>\n",
       "<style scoped>\n",
       "    .dataframe tbody tr th:only-of-type {\n",
       "        vertical-align: middle;\n",
       "    }\n",
       "\n",
       "    .dataframe tbody tr th {\n",
       "        vertical-align: top;\n",
       "    }\n",
       "\n",
       "    .dataframe thead th {\n",
       "        text-align: right;\n",
       "    }\n",
       "</style>\n",
       "<table border=\"1\" class=\"dataframe\">\n",
       "  <thead>\n",
       "    <tr style=\"text-align: right;\">\n",
       "      <th></th>\n",
       "      <th>Location</th>\n",
       "      <th>Date_Time</th>\n",
       "      <th>Temperature_C</th>\n",
       "      <th>Humidity_pct</th>\n",
       "      <th>Precipitation_mm</th>\n",
       "      <th>Wind_Speed_kmh</th>\n",
       "    </tr>\n",
       "  </thead>\n",
       "  <tbody>\n",
       "    <tr>\n",
       "      <th>0</th>\n",
       "      <td>San Diego</td>\n",
       "      <td>2024-01-14 21:12:46</td>\n",
       "      <td>10.683001</td>\n",
       "      <td>41.195754</td>\n",
       "      <td>4.020119</td>\n",
       "      <td>8.233540</td>\n",
       "    </tr>\n",
       "    <tr>\n",
       "      <th>3</th>\n",
       "      <td>Philadelphia</td>\n",
       "      <td>2024-02-26 17:32:39</td>\n",
       "      <td>-8.628976</td>\n",
       "      <td>54.074474</td>\n",
       "      <td>3.183720</td>\n",
       "      <td>26.367303</td>\n",
       "    </tr>\n",
       "    <tr>\n",
       "      <th>4</th>\n",
       "      <td>San Antonio</td>\n",
       "      <td>2024-04-29 13:23:51</td>\n",
       "      <td>39.808213</td>\n",
       "      <td>72.899908</td>\n",
       "      <td>9.598282</td>\n",
       "      <td>29.898622</td>\n",
       "    </tr>\n",
       "    <tr>\n",
       "      <th>6</th>\n",
       "      <td>San Jose</td>\n",
       "      <td>2024-01-13 02:10:54</td>\n",
       "      <td>1.881883</td>\n",
       "      <td>65.742325</td>\n",
       "      <td>0.221709</td>\n",
       "      <td>1.073112</td>\n",
       "    </tr>\n",
       "    <tr>\n",
       "      <th>7</th>\n",
       "      <td>New York</td>\n",
       "      <td>2024-01-25 19:04:34</td>\n",
       "      <td>-6.894766</td>\n",
       "      <td>30.804894</td>\n",
       "      <td>8.027624</td>\n",
       "      <td>16.848337</td>\n",
       "    </tr>\n",
       "    <tr>\n",
       "      <th>11</th>\n",
       "      <td>Houston</td>\n",
       "      <td>2024-03-07 22:03:36</td>\n",
       "      <td>15.816764</td>\n",
       "      <td>80.119902</td>\n",
       "      <td>3.760004</td>\n",
       "      <td>16.752132</td>\n",
       "    </tr>\n",
       "    <tr>\n",
       "      <th>12</th>\n",
       "      <td>Dallas</td>\n",
       "      <td>2024-02-27 21:07:10</td>\n",
       "      <td>32.016898</td>\n",
       "      <td>53.194371</td>\n",
       "      <td>3.552671</td>\n",
       "      <td>3.050196</td>\n",
       "    </tr>\n",
       "    <tr>\n",
       "      <th>17</th>\n",
       "      <td>Chicago</td>\n",
       "      <td>2024-01-06 02:59:46</td>\n",
       "      <td>26.786811</td>\n",
       "      <td>31.513614</td>\n",
       "      <td>0.496024</td>\n",
       "      <td>22.980095</td>\n",
       "    </tr>\n",
       "    <tr>\n",
       "      <th>29</th>\n",
       "      <td>Los Angeles</td>\n",
       "      <td>2024-02-15 20:47:24</td>\n",
       "      <td>-2.409511</td>\n",
       "      <td>46.834004</td>\n",
       "      <td>4.550643</td>\n",
       "      <td>7.437357</td>\n",
       "    </tr>\n",
       "    <tr>\n",
       "      <th>37</th>\n",
       "      <td>Phoenix</td>\n",
       "      <td>2024-01-29 07:08:28</td>\n",
       "      <td>1.512627</td>\n",
       "      <td>89.417846</td>\n",
       "      <td>5.210117</td>\n",
       "      <td>7.332915</td>\n",
       "    </tr>\n",
       "  </tbody>\n",
       "</table>\n",
       "</div>"
      ],
      "text/plain": [
       "        Location            Date_Time  Temperature_C  Humidity_pct  \\\n",
       "0      San Diego  2024-01-14 21:12:46      10.683001     41.195754   \n",
       "3   Philadelphia  2024-02-26 17:32:39      -8.628976     54.074474   \n",
       "4    San Antonio  2024-04-29 13:23:51      39.808213     72.899908   \n",
       "6       San Jose  2024-01-13 02:10:54       1.881883     65.742325   \n",
       "7       New York  2024-01-25 19:04:34      -6.894766     30.804894   \n",
       "11       Houston  2024-03-07 22:03:36      15.816764     80.119902   \n",
       "12        Dallas  2024-02-27 21:07:10      32.016898     53.194371   \n",
       "17       Chicago  2024-01-06 02:59:46      26.786811     31.513614   \n",
       "29   Los Angeles  2024-02-15 20:47:24      -2.409511     46.834004   \n",
       "37       Phoenix  2024-01-29 07:08:28       1.512627     89.417846   \n",
       "\n",
       "    Precipitation_mm  Wind_Speed_kmh  \n",
       "0           4.020119        8.233540  \n",
       "3           3.183720       26.367303  \n",
       "4           9.598282       29.898622  \n",
       "6           0.221709        1.073112  \n",
       "7           8.027624       16.848337  \n",
       "11          3.760004       16.752132  \n",
       "12          3.552671        3.050196  \n",
       "17          0.496024       22.980095  \n",
       "29          4.550643        7.437357  \n",
       "37          5.210117        7.332915  "
      ]
     },
     "execution_count": 13,
     "metadata": {},
     "output_type": "execute_result"
    }
   ],
   "source": [
    "df.drop_duplicates(subset=['Location'])"
   ]
  },
  {
   "cell_type": "code",
   "execution_count": 14,
   "metadata": {},
   "outputs": [
    {
     "name": "stdout",
     "output_type": "stream",
     "text": [
      "Index(['Location', 'Date_Time', 'Temperature_C', 'Humidity_pct',\n",
      "       'Precipitation_mm', 'Wind_Speed_kmh'],\n",
      "      dtype='object')\n"
     ]
    }
   ],
   "source": [
    "print(df.columns)\n"
   ]
  },
  {
   "cell_type": "code",
   "execution_count": 15,
   "metadata": {},
   "outputs": [
    {
     "name": "stdout",
     "output_type": "stream",
     "text": [
      "'Location': 8\n",
      "'Date_Time': 9\n",
      "'Temperature_C': 13\n",
      "'Humidity_pct': 12\n",
      "'Precipitation_mm': 16\n",
      "'Wind_Speed_kmh': 14\n"
     ]
    }
   ],
   "source": [
    "for col in df.columns:\n",
    "    print(f\"'{col}': {len(col)}\")\n"
   ]
  },
  {
   "cell_type": "code",
   "execution_count": 16,
   "metadata": {},
   "outputs": [],
   "source": [
    "df.rename(columns=lambda x: x.strip(), inplace=True)\n"
   ]
  },
  {
   "cell_type": "code",
   "execution_count": 17,
   "metadata": {},
   "outputs": [],
   "source": [
    "df = df.set_index('Temperature_C')\n"
   ]
  },
  {
   "cell_type": "code",
   "execution_count": 18,
   "metadata": {},
   "outputs": [
    {
     "name": "stdout",
     "output_type": "stream",
     "text": [
      "Index(['Location', 'Date_Time', 'Humidity_pct', 'Precipitation_mm',\n",
      "       'Wind_Speed_kmh'],\n",
      "      dtype='object')\n"
     ]
    }
   ],
   "source": [
    "print(df.columns)"
   ]
  },
  {
   "cell_type": "code",
   "execution_count": 19,
   "metadata": {},
   "outputs": [],
   "source": [
    "df.columns = df.columns.str.strip()"
   ]
  },
  {
   "cell_type": "code",
   "execution_count": 20,
   "metadata": {},
   "outputs": [
    {
     "ename": "KeyError",
     "evalue": "\"None of ['Temperature_C'] are in the columns\"",
     "output_type": "error",
     "traceback": [
      "\u001b[1;31m---------------------------------------------------------------------------\u001b[0m",
      "\u001b[1;31mKeyError\u001b[0m                                  Traceback (most recent call last)",
      "\u001b[1;32m~\\AppData\\Local\\Temp\\ipykernel_4820\\610493932.py\u001b[0m in \u001b[0;36m?\u001b[1;34m()\u001b[0m\n\u001b[1;32m----> 1\u001b[1;33m \u001b[0mdf\u001b[0m \u001b[1;33m=\u001b[0m \u001b[0mdf\u001b[0m\u001b[1;33m.\u001b[0m\u001b[0mset_index\u001b[0m\u001b[1;33m(\u001b[0m\u001b[1;34m'Temperature_C'\u001b[0m\u001b[1;33m)\u001b[0m\u001b[1;33m\u001b[0m\u001b[1;33m\u001b[0m\u001b[0m\n\u001b[0m",
      "\u001b[1;32mc:\\Users\\Public\\miniconda3\\Lib\\site-packages\\pandas\\core\\frame.py\u001b[0m in \u001b[0;36m?\u001b[1;34m(self, keys, drop, append, inplace, verify_integrity)\u001b[0m\n\u001b[0;32m   6118\u001b[0m                     \u001b[1;32mif\u001b[0m \u001b[1;32mnot\u001b[0m \u001b[0mfound\u001b[0m\u001b[1;33m:\u001b[0m\u001b[1;33m\u001b[0m\u001b[1;33m\u001b[0m\u001b[0m\n\u001b[0;32m   6119\u001b[0m                         \u001b[0mmissing\u001b[0m\u001b[1;33m.\u001b[0m\u001b[0mappend\u001b[0m\u001b[1;33m(\u001b[0m\u001b[0mcol\u001b[0m\u001b[1;33m)\u001b[0m\u001b[1;33m\u001b[0m\u001b[1;33m\u001b[0m\u001b[0m\n\u001b[0;32m   6120\u001b[0m \u001b[1;33m\u001b[0m\u001b[0m\n\u001b[0;32m   6121\u001b[0m         \u001b[1;32mif\u001b[0m \u001b[0mmissing\u001b[0m\u001b[1;33m:\u001b[0m\u001b[1;33m\u001b[0m\u001b[1;33m\u001b[0m\u001b[0m\n\u001b[1;32m-> 6122\u001b[1;33m             \u001b[1;32mraise\u001b[0m \u001b[0mKeyError\u001b[0m\u001b[1;33m(\u001b[0m\u001b[1;33mf\"\u001b[0m\u001b[1;33mNone of \u001b[0m\u001b[1;33m{\u001b[0m\u001b[0mmissing\u001b[0m\u001b[1;33m}\u001b[0m\u001b[1;33m are in the columns\u001b[0m\u001b[1;33m\"\u001b[0m\u001b[1;33m)\u001b[0m\u001b[1;33m\u001b[0m\u001b[1;33m\u001b[0m\u001b[0m\n\u001b[0m\u001b[0;32m   6123\u001b[0m \u001b[1;33m\u001b[0m\u001b[0m\n\u001b[0;32m   6124\u001b[0m         \u001b[1;32mif\u001b[0m \u001b[0minplace\u001b[0m\u001b[1;33m:\u001b[0m\u001b[1;33m\u001b[0m\u001b[1;33m\u001b[0m\u001b[0m\n\u001b[0;32m   6125\u001b[0m             \u001b[0mframe\u001b[0m \u001b[1;33m=\u001b[0m \u001b[0mself\u001b[0m\u001b[1;33m\u001b[0m\u001b[1;33m\u001b[0m\u001b[0m\n",
      "\u001b[1;31mKeyError\u001b[0m: \"None of ['Temperature_C'] are in the columns\""
     ]
    }
   ],
   "source": [
    "df = df.set_index('Temperature_C')\n"
   ]
  },
  {
   "cell_type": "code",
   "execution_count": null,
   "metadata": {},
   "outputs": [
    {
     "data": {
      "text/html": [
       "<div>\n",
       "<style scoped>\n",
       "    .dataframe tbody tr th:only-of-type {\n",
       "        vertical-align: middle;\n",
       "    }\n",
       "\n",
       "    .dataframe tbody tr th {\n",
       "        vertical-align: top;\n",
       "    }\n",
       "\n",
       "    .dataframe thead th {\n",
       "        text-align: right;\n",
       "    }\n",
       "</style>\n",
       "<table border=\"1\" class=\"dataframe\">\n",
       "  <thead>\n",
       "    <tr style=\"text-align: right;\">\n",
       "      <th></th>\n",
       "      <th>location</th>\n",
       "      <th>date_time</th>\n",
       "      <th>temperature_c</th>\n",
       "      <th>humidity_pct</th>\n",
       "      <th>precipitation_mm</th>\n",
       "      <th>wind_speed_kmh</th>\n",
       "    </tr>\n",
       "  </thead>\n",
       "  <tbody>\n",
       "    <tr>\n",
       "      <th>0</th>\n",
       "      <td>San Diego</td>\n",
       "      <td>2024-01-14 21:12:46</td>\n",
       "      <td>10.683001</td>\n",
       "      <td>41.195754</td>\n",
       "      <td>4.020119</td>\n",
       "      <td>8.233540</td>\n",
       "    </tr>\n",
       "    <tr>\n",
       "      <th>1</th>\n",
       "      <td>San Diego</td>\n",
       "      <td>2024-05-17 15:22:10</td>\n",
       "      <td>8.734140</td>\n",
       "      <td>58.319107</td>\n",
       "      <td>9.111623</td>\n",
       "      <td>27.715161</td>\n",
       "    </tr>\n",
       "    <tr>\n",
       "      <th>2</th>\n",
       "      <td>San Diego</td>\n",
       "      <td>2024-05-11 09:30:59</td>\n",
       "      <td>11.632436</td>\n",
       "      <td>38.820175</td>\n",
       "      <td>4.607511</td>\n",
       "      <td>28.732951</td>\n",
       "    </tr>\n",
       "    <tr>\n",
       "      <th>3</th>\n",
       "      <td>Philadelphia</td>\n",
       "      <td>2024-02-26 17:32:39</td>\n",
       "      <td>-8.628976</td>\n",
       "      <td>54.074474</td>\n",
       "      <td>3.183720</td>\n",
       "      <td>26.367303</td>\n",
       "    </tr>\n",
       "    <tr>\n",
       "      <th>4</th>\n",
       "      <td>San Antonio</td>\n",
       "      <td>2024-04-29 13:23:51</td>\n",
       "      <td>39.808213</td>\n",
       "      <td>72.899908</td>\n",
       "      <td>9.598282</td>\n",
       "      <td>29.898622</td>\n",
       "    </tr>\n",
       "  </tbody>\n",
       "</table>\n",
       "</div>"
      ],
      "text/plain": [
       "       location            date_time  temperature_c  humidity_pct  \\\n",
       "0     San Diego  2024-01-14 21:12:46      10.683001     41.195754   \n",
       "1     San Diego  2024-05-17 15:22:10       8.734140     58.319107   \n",
       "2     San Diego  2024-05-11 09:30:59      11.632436     38.820175   \n",
       "3  Philadelphia  2024-02-26 17:32:39      -8.628976     54.074474   \n",
       "4   San Antonio  2024-04-29 13:23:51      39.808213     72.899908   \n",
       "\n",
       "   precipitation_mm  wind_speed_kmh  \n",
       "0          4.020119        8.233540  \n",
       "1          9.111623       27.715161  \n",
       "2          4.607511       28.732951  \n",
       "3          3.183720       26.367303  \n",
       "4          9.598282       29.898622  "
      ]
     },
     "execution_count": 22,
     "metadata": {},
     "output_type": "execute_result"
    }
   ],
   "source": [
    "df.columns = [str(name).lower() for name in df.columns.tolist()]\n",
    "df.head()"
   ]
  },
  {
   "cell_type": "code",
   "execution_count": null,
   "metadata": {},
   "outputs": [
    {
     "name": "stdout",
     "output_type": "stream",
     "text": [
      "['10', '11', '12', '13', '14', '15', '16', '17', '18', '19', '20', '21', '22', '23', '24', '25', '26', '27', '28', '29']\n"
     ]
    }
   ],
   "source": [
    "TEMP = list(map(str, range(10,30)))\n",
    "print(TEMP)"
   ]
  },
  {
   "cell_type": "code",
   "execution_count": null,
   "metadata": {},
   "outputs": [
    {
     "ename": "KeyError",
     "evalue": "\"None of [Index(['10', '11', '12', '13', '14', '15', '16', '17', '18', '19', '20', '21',\\n       '22', '23', '24', '25', '26', '27', '28', '29'],\\n      dtype='object')] are in the [columns]\"",
     "output_type": "error",
     "traceback": [
      "\u001b[1;31m---------------------------------------------------------------------------\u001b[0m",
      "\u001b[1;31mKeyError\u001b[0m                                  Traceback (most recent call last)",
      "Cell \u001b[1;32mIn[24], line 1\u001b[0m\n\u001b[1;32m----> 1\u001b[0m df[\u001b[38;5;124m'\u001b[39m\u001b[38;5;124mtotal\u001b[39m\u001b[38;5;124m'\u001b[39m] \u001b[38;5;241m=\u001b[39m df[TEMP]\u001b[38;5;241m.\u001b[39msum(axis\u001b[38;5;241m=\u001b[39m\u001b[38;5;241m1\u001b[39m)\n\u001b[0;32m      2\u001b[0m df\u001b[38;5;241m.\u001b[39mhead()\n",
      "File \u001b[1;32mc:\\Users\\Public\\miniconda3\\Lib\\site-packages\\pandas\\core\\frame.py:4108\u001b[0m, in \u001b[0;36mDataFrame.__getitem__\u001b[1;34m(self, key)\u001b[0m\n\u001b[0;32m   4106\u001b[0m     \u001b[38;5;28;01mif\u001b[39;00m is_iterator(key):\n\u001b[0;32m   4107\u001b[0m         key \u001b[38;5;241m=\u001b[39m \u001b[38;5;28mlist\u001b[39m(key)\n\u001b[1;32m-> 4108\u001b[0m     indexer \u001b[38;5;241m=\u001b[39m \u001b[38;5;28mself\u001b[39m\u001b[38;5;241m.\u001b[39mcolumns\u001b[38;5;241m.\u001b[39m_get_indexer_strict(key, \u001b[38;5;124m\"\u001b[39m\u001b[38;5;124mcolumns\u001b[39m\u001b[38;5;124m\"\u001b[39m)[\u001b[38;5;241m1\u001b[39m]\n\u001b[0;32m   4110\u001b[0m \u001b[38;5;66;03m# take() does not accept boolean indexers\u001b[39;00m\n\u001b[0;32m   4111\u001b[0m \u001b[38;5;28;01mif\u001b[39;00m \u001b[38;5;28mgetattr\u001b[39m(indexer, \u001b[38;5;124m\"\u001b[39m\u001b[38;5;124mdtype\u001b[39m\u001b[38;5;124m\"\u001b[39m, \u001b[38;5;28;01mNone\u001b[39;00m) \u001b[38;5;241m==\u001b[39m \u001b[38;5;28mbool\u001b[39m:\n",
      "File \u001b[1;32mc:\\Users\\Public\\miniconda3\\Lib\\site-packages\\pandas\\core\\indexes\\base.py:6200\u001b[0m, in \u001b[0;36mIndex._get_indexer_strict\u001b[1;34m(self, key, axis_name)\u001b[0m\n\u001b[0;32m   6197\u001b[0m \u001b[38;5;28;01melse\u001b[39;00m:\n\u001b[0;32m   6198\u001b[0m     keyarr, indexer, new_indexer \u001b[38;5;241m=\u001b[39m \u001b[38;5;28mself\u001b[39m\u001b[38;5;241m.\u001b[39m_reindex_non_unique(keyarr)\n\u001b[1;32m-> 6200\u001b[0m \u001b[38;5;28mself\u001b[39m\u001b[38;5;241m.\u001b[39m_raise_if_missing(keyarr, indexer, axis_name)\n\u001b[0;32m   6202\u001b[0m keyarr \u001b[38;5;241m=\u001b[39m \u001b[38;5;28mself\u001b[39m\u001b[38;5;241m.\u001b[39mtake(indexer)\n\u001b[0;32m   6203\u001b[0m \u001b[38;5;28;01mif\u001b[39;00m \u001b[38;5;28misinstance\u001b[39m(key, Index):\n\u001b[0;32m   6204\u001b[0m     \u001b[38;5;66;03m# GH 42790 - Preserve name from an Index\u001b[39;00m\n",
      "File \u001b[1;32mc:\\Users\\Public\\miniconda3\\Lib\\site-packages\\pandas\\core\\indexes\\base.py:6249\u001b[0m, in \u001b[0;36mIndex._raise_if_missing\u001b[1;34m(self, key, indexer, axis_name)\u001b[0m\n\u001b[0;32m   6247\u001b[0m \u001b[38;5;28;01mif\u001b[39;00m nmissing:\n\u001b[0;32m   6248\u001b[0m     \u001b[38;5;28;01mif\u001b[39;00m nmissing \u001b[38;5;241m==\u001b[39m \u001b[38;5;28mlen\u001b[39m(indexer):\n\u001b[1;32m-> 6249\u001b[0m         \u001b[38;5;28;01mraise\u001b[39;00m \u001b[38;5;167;01mKeyError\u001b[39;00m(\u001b[38;5;124mf\u001b[39m\u001b[38;5;124m\"\u001b[39m\u001b[38;5;124mNone of [\u001b[39m\u001b[38;5;132;01m{\u001b[39;00mkey\u001b[38;5;132;01m}\u001b[39;00m\u001b[38;5;124m] are in the [\u001b[39m\u001b[38;5;132;01m{\u001b[39;00maxis_name\u001b[38;5;132;01m}\u001b[39;00m\u001b[38;5;124m]\u001b[39m\u001b[38;5;124m\"\u001b[39m)\n\u001b[0;32m   6251\u001b[0m     not_found \u001b[38;5;241m=\u001b[39m \u001b[38;5;28mlist\u001b[39m(ensure_index(key)[missing_mask\u001b[38;5;241m.\u001b[39mnonzero()[\u001b[38;5;241m0\u001b[39m]]\u001b[38;5;241m.\u001b[39munique())\n\u001b[0;32m   6252\u001b[0m     \u001b[38;5;28;01mraise\u001b[39;00m \u001b[38;5;167;01mKeyError\u001b[39;00m(\u001b[38;5;124mf\u001b[39m\u001b[38;5;124m\"\u001b[39m\u001b[38;5;132;01m{\u001b[39;00mnot_found\u001b[38;5;132;01m}\u001b[39;00m\u001b[38;5;124m not in index\u001b[39m\u001b[38;5;124m\"\u001b[39m)\n",
      "\u001b[1;31mKeyError\u001b[0m: \"None of [Index(['10', '11', '12', '13', '14', '15', '16', '17', '18', '19', '20', '21',\\n       '22', '23', '24', '25', '26', '27', '28', '29'],\\n      dtype='object')] are in the [columns]\""
     ]
    }
   ],
   "source": [
    "df['total'] = df[TEMP].sum(axis=1)\n",
    "df.head()"
   ]
  },
  {
   "cell_type": "code",
   "execution_count": null,
   "metadata": {},
   "outputs": [],
   "source": []
  },
  {
   "cell_type": "code",
   "execution_count": null,
   "metadata": {},
   "outputs": [
    {
     "name": "stdout",
     "output_type": "stream",
     "text": [
      "       location            date_time  temperature_c  humidity_pct  \\\n",
      "0     San Diego  2024-01-14 21:12:46      10.683001     41.195754   \n",
      "1     San Diego  2024-05-17 15:22:10       8.734140     58.319107   \n",
      "2     San Diego  2024-05-11 09:30:59      11.632436     38.820175   \n",
      "3  Philadelphia  2024-02-26 17:32:39      -8.628976     54.074474   \n",
      "4   San Antonio  2024-04-29 13:23:51      39.808213     72.899908   \n",
      "\n",
      "   precipitation_mm  wind_speed_kmh  \n",
      "0          4.020119        8.233540  \n",
      "1          9.111623       27.715161  \n",
      "2          4.607511       28.732951  \n",
      "3          3.183720       26.367303  \n",
      "4          9.598282       29.898622  \n"
     ]
    }
   ],
   "source": [
    "print(df.head())\n",
    "\n"
   ]
  },
  {
   "cell_type": "code",
   "execution_count": null,
   "metadata": {},
   "outputs": [
    {
     "name": "stdout",
     "output_type": "stream",
     "text": [
      "<class 'pandas.core.frame.DataFrame'>\n",
      "RangeIndex: 1000000 entries, 0 to 999999\n",
      "Data columns (total 6 columns):\n",
      " #   Column            Non-Null Count    Dtype  \n",
      "---  ------            --------------    -----  \n",
      " 0   location          1000000 non-null  object \n",
      " 1   date_time         1000000 non-null  object \n",
      " 2   temperature_c     1000000 non-null  float64\n",
      " 3   humidity_pct      1000000 non-null  float64\n",
      " 4   precipitation_mm  1000000 non-null  float64\n",
      " 5   wind_speed_kmh    1000000 non-null  float64\n",
      "dtypes: float64(4), object(2)\n",
      "memory usage: 45.8+ MB\n",
      "None\n"
     ]
    }
   ],
   "source": [
    "print(df.info())\n"
   ]
  },
  {
   "cell_type": "code",
   "execution_count": null,
   "metadata": {},
   "outputs": [
    {
     "name": "stdout",
     "output_type": "stream",
     "text": [
      "['location', 'date_time', 'temperature_c', 'humidity_pct', 'precipitation_mm', 'wind_speed_kmh']\n"
     ]
    }
   ],
   "source": [
    "print(list(df.columns))\n"
   ]
  },
  {
   "cell_type": "code",
   "execution_count": null,
   "metadata": {},
   "outputs": [
    {
     "ename": "",
     "evalue": "",
     "output_type": "error",
     "traceback": [
      "\u001b[1;31mThe Kernel crashed while executing code in the current cell or a previous cell. \n",
      "\u001b[1;31mPlease review the code in the cell(s) to identify a possible cause of the failure. \n",
      "\u001b[1;31mClick <a href='https://aka.ms/vscodeJupyterKernelCrash'>here</a> for more info. \n",
      "\u001b[1;31mView Jupyter <a href='command:jupyter.viewOutput'>log</a> for further details."
     ]
    }
   ],
   "source": [
    "cities = df.index.tolist()"
   ]
  },
  {
   "cell_type": "code",
   "execution_count": null,
   "metadata": {},
   "outputs": [],
   "source": []
  }
 ],
 "metadata": {
  "kernelspec": {
   "display_name": "base",
   "language": "python",
   "name": "python3"
  },
  "language_info": {
   "codemirror_mode": {
    "name": "ipython",
    "version": 3
   },
   "file_extension": ".py",
   "mimetype": "text/x-python",
   "name": "python",
   "nbconvert_exporter": "python",
   "pygments_lexer": "ipython3",
   "version": "3.12.3"
  }
 },
 "nbformat": 4,
 "nbformat_minor": 2
}
